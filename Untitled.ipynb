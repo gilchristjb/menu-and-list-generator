{
 "cells": [
  {
   "cell_type": "code",
   "execution_count": 1,
   "metadata": {
    "collapsed": true
   },
   "outputs": [],
   "source": [
    "def meallist():\n",
    "    \"\"\"Function to check if there is a directory called 'recipe_book'\n",
    "    in the cwd, and creates one if it is not present. It then creates and returns a list of\n",
    "    all the meals present in the recipe_book directory.\n",
    "    \"\"\"\n",
    "    import os\n",
    "\n",
    "    recipeFiles = os.listdir(str(os.getcwd() + '\\\\recipe_book'))\n",
    "    mealList = [x.split('.')[0] for x in recipeFiles]\n",
    "\n",
    "    return(mealList)"
   ]
  },
  {
   "cell_type": "code",
   "execution_count": 2,
   "metadata": {
    "collapsed": true
   },
   "outputs": [],
   "source": [
    "def mealselector():\n",
    "    \"\"\" This function randomly chooses a meal file for meal 1 and asigns the characheristics\n",
    "    of that meal file to a list which can then be sliced returning the desired\n",
    "    characteristics.\n",
    "    \"\"\"\n",
    "    import os\n",
    "    import ast\n",
    "    import random\n",
    "    from menufunctions_win import meallist\n",
    "\n",
    "    #randomly chooses a meal from meallist and finds the file path\n",
    "    mealChoice = str(random.choice(meallist()))\n",
    "    choicePath = str(os.getcwd() + '\\\\recipe_book\\\\' + mealChoice + '.txt')\n",
    "\n",
    "    #reads all the lines from the mealfile and removes quotes\n",
    "    with open(choicePath,\"r\") as x:\n",
    "        allChars = [i.strip() for i in x.readlines()]\n",
    "\n",
    "    #asigns the appropriate characteristics to reasonable local variables\n",
    "    #interprets the lists given in the meal file as actual lists\n",
    "\n",
    "    if allChars[2] == 'Two days':\n",
    "        servings = [2,2]\n",
    "    elif allChars[2] == 'One or two days':\n",
    "        servings = [random.choice([1,2]),2]\n",
    "    else:\n",
    "        servings = [1,1]\n",
    "\n",
    "    if allChars[4] == 'Faffy':\n",
    "        faffCheck = 1\n",
    "    else:\n",
    "        faffCheck = 0\n",
    "\n",
    "    if allChars[6] == 'Pie':\n",
    "        pieCheck = 1\n",
    "    else:\n",
    "        pieCheck = 0\n",
    "\n",
    "    mainCarb = allChars[8]\n",
    "    mealType = allChars[10]\n",
    "    meatType = allChars[12]\n",
    "    ingredients = ast.literal_eval(allChars[14])\n",
    "    amounts = ast.literal_eval(allChars[16])\n",
    "    units = ast.literal_eval(allChars[18])\n",
    "    additionalItems = ast.literal_eval(allChars[20])\n",
    "\n",
    "    # lists the important characteristics of the randomly selected meal file\n",
    "    #           0          1          2         3          4         5         6          7          8       9              10\n",
    "    return [mealChoice, servings, faffCheck, pieCheck, mainCarb, mealType, meatType, ingredients, amounts, units, additionalItems]\n"
   ]
  },
  {
   "cell_type": "code",
   "execution_count": 34,
   "metadata": {},
   "outputs": [],
   "source": [
    "def generatenew():\n",
    "    \"\"\"Using the mealselector function the meal choices are made and the characteristics are evaluated to return a menu which .\n",
    "    \"\"\"\n",
    "    import os\n",
    "    import random\n",
    "    from menufunctions_win import mealselector\n",
    "\n",
    "    while True:\n",
    "        mealChoice_1 = mealselector()\n",
    "        mealChoice_2 = mealselector()\n",
    "        mealChoice_3 = mealselector()\n",
    "        mealChoice_4 = mealselector()\n",
    "\n",
    "        if mealChoice_1[2] + mealChoice_2[2] + mealChoice_3[2] + mealChoice_4[2] == 1: # check for faff\n",
    "            faffCheck = 1\n",
    "        else:\n",
    "            faffCheck = 0\n",
    "\n",
    "        if mealChoice_1[3] + mealChoice_2[3] + mealChoice_3[3] + mealChoice_4[3] == 0: # check for pie\n",
    "            pieCheck = 1\n",
    "        else:\n",
    "            pieCheck = 0\n",
    "        if len(set([mealChoice_1[4], mealChoice_2[4], mealChoice_3[4], mealChoice_4[4]])) == 4: # check for carb types\n",
    "            carbCheck = 1\n",
    "        else:\n",
    "            carbCheck = 0\n",
    "        if len(set([mealChoice_1[5], mealChoice_2[5], mealChoice_3[5], mealChoice_4[5]])) == 3: # check for meal type\n",
    "            typeCheck = 1\n",
    "        else:\n",
    "            typeCheck = 0\n",
    "        if [mealChoice_1[5], mealChoice_2[5], mealChoice_3[5], mealChoice_4[5]].count('Meat') == 2:\n",
    "            meatList = list([mealChoice_1[6], mealChoice_2[6], mealChoice_3[6], mealChoice_4[6]])\n",
    "            uniqueMeats = []\n",
    "            for i in meatList:\n",
    "                if i not in uniqueMeats and i != 'No meat':\n",
    "                    uniqueMeats.append(i)\n",
    "            if len(uniqueMeats) == 2:\n",
    "                meatCheck = 1\n",
    "            else:\n",
    "                meatCheck = 0\n",
    "        elif [mealChoice_1[5], mealChoice_2[5], mealChoice_3[5], mealChoice_4[5]].count('Meat') == 1:\n",
    "            meatList = list([mealChoice_1[6], mealChoice_2[6], mealChoice_3[6], mealChoice_4[6]])\n",
    "            meatList = [x for x in meatList if x != 'No meat']\n",
    "            meatCheck = 1\n",
    "        else:\n",
    "            meatCheck = 0\n",
    "        if mealChoice_1[1][0] + mealChoice_2[1][0] + mealChoice_3[1][0] + mealChoice_4[1][0] == 7:\n",
    "            servingCheck = 1\n",
    "        else:\n",
    "            servingCheck = 0\n",
    "        if len(set([mealChoice_1[0],mealChoice_2[0],mealChoice_3[0],mealChoice_4[0]])) == 4:\n",
    "            nameCheck = 1\n",
    "        else:\n",
    "            nameCheck = 0\n",
    "        if faffCheck + carbCheck + typeCheck + meatCheck + servingCheck + nameCheck + pieCheck == 7:\n",
    "            break\n",
    "    \n",
    "    newCheck = [mealChoice_1,mealChoice_2,mealChoice_3,mealChoice_4]\n",
    "    mealChange = random.choice(newCheck)\n",
    "    newCheck[newCheck.index(mealChange)] = ['New Meal', mealChange[1], mealChange[2], 0, mealChange[4], mealChange[5], mealChange[6], [], [], [], []]\n",
    "    return([newCheck[0],newCheck[1],newCheck[2],newCheck[3]])"
   ]
  },
  {
   "cell_type": "code",
   "execution_count": 36,
   "metadata": {},
   "outputs": [
    {
     "name": "stdout",
     "output_type": "stream",
     "text": [
      "['New Meal', [2, 2], 0, 0, 'Rice', 'Fish', 'No meat', [], [], [], []]\n",
      "['Bean Stew', [2, 2], 0, 0, 'Bread', 'Vegetarian', 'No meat', ['A', 'B', 'C', 'D'], [1, 2, 3, 4], ['a', 'b', 'c', 'd'], ['Z', 'Y', 'X', 'W']]\n",
      "['New Pasta Meal', [1, 2], 0, 0, 'Pasta', 'Vegetarian', 'No meat', [], [], [], []]\n",
      "['Greek Tray Bake', [2, 2], 1, 0, 'Potato', 'Meat', 'Lamb', [], [], [], []]\n"
     ]
    }
   ],
   "source": [
    "proposedMenu = generatenew()\n",
    "print(proposedMenu[0])\n",
    "print(proposedMenu[1])\n",
    "print(proposedMenu[2])\n",
    "print(proposedMenu[3])"
   ]
  },
  {
   "cell_type": "code",
   "execution_count": null,
   "metadata": {
    "collapsed": true
   },
   "outputs": [],
   "source": []
  },
  {
   "cell_type": "code",
   "execution_count": null,
   "metadata": {
    "collapsed": true
   },
   "outputs": [],
   "source": []
  }
 ],
 "metadata": {
  "kernelspec": {
   "display_name": "Python 3",
   "language": "python",
   "name": "python3"
  },
  "language_info": {
   "codemirror_mode": {
    "name": "ipython",
    "version": 3
   },
   "file_extension": ".py",
   "mimetype": "text/x-python",
   "name": "python",
   "nbconvert_exporter": "python",
   "pygments_lexer": "ipython3",
   "version": "3.6.3"
  }
 },
 "nbformat": 4,
 "nbformat_minor": 2
}
