{
 "cells": [
  {
   "cell_type": "code",
   "execution_count": null,
   "metadata": {},
   "outputs": [
    {
     "name": "stdout",
     "output_type": "stream",
     "text": [
      "Ingredients: Tinned Tomatoes, Black Beans, Courgettes, Mushrooms, Little Potatoes, Onions, Spinach, Fajita Mix, Test\n",
      "Amounts: 3, 2, 1, 300, 250, 2, 1, 1, 600\n",
      "Units: tins, tins, courgettes, g, g, onions, packet, sachet, g\n",
      "\n",
      "What ingredient do you want to delete?\n",
      "test\n",
      "\n",
      "deleting: Test, 600 g\n",
      "del test 2\n",
      "Ingredients: Tinned Tomatoes, Black Beans, Courgettes, Mushrooms, Little Potatoes, Onions, Spinach, Fajita Mix\n",
      "Amounts: 3, 2, 1, 300, 250, 2, 1, 1\n",
      "Units: tins, tins, courgettes, g, g, onions, packet, sachet\n"
     ]
    }
   ],
   "source": [
    "ingList = ['Tinned Tomatoes', 'Black Beans', 'Courgettes', 'Mushrooms', 'Little Potatoes', 'Onions', 'Spinach', 'Fajita Mix', 'Test']\n",
    "\n",
    "amList = [3, 2, 1, 300, 250, 2, 1, 1, 600]\n",
    "\n",
    "unitList = ['tins', 'tins', 'courgettes', 'g', 'g', 'onions', 'packet', 'sachet', 'g']\n",
    "\n",
    "\n",
    "\n",
    "\n",
    "while True:\n",
    "                        print('Ingredients: ' + (', '.join(ingList)))\n",
    "                        print('Amounts: ' + (', '.join([str(i) for i in amList])))\n",
    "                        print('Units: ' + (', '.join(unitList)))\n",
    "                        delIngChoice = input(\"\"\"\\nWhat ingredient do you want to delete?\\n\"\"\").title()\n",
    "                        print('')\n",
    "\n",
    "                        if delIngChoice in ingList:\n",
    "                            print('Deleting:', delIngChoice + ',', amList[ingList.index(delIngChoice)], unitList[ingList.index(delIngChoice)])\n",
    " \n",
    "                            del amList[ingList.index(delIngChoice)]\n",
    "                            del unitList[ingList.index(delIngChoice)]\n",
    "                            del ingList[ingList.index(delIngChoice)]\n",
    "                            print('del test 2')\n",
    "\n",
    "                        elif delIngChoice == 'End':\n",
    "                            break\n",
    "                        else:\n",
    "                            print('That is not an ingredient\\n')\n"
   ]
  },
  {
   "cell_type": "code",
   "execution_count": null,
   "metadata": {
    "collapsed": true
   },
   "outputs": [],
   "source": []
  }
 ],
 "metadata": {
  "kernelspec": {
   "display_name": "Python 3",
   "language": "python",
   "name": "python3"
  },
  "language_info": {
   "codemirror_mode": {
    "name": "ipython",
    "version": 3
   },
   "file_extension": ".py",
   "mimetype": "text/x-python",
   "name": "python",
   "nbconvert_exporter": "python",
   "pygments_lexer": "ipython3",
   "version": "3.6.3"
  }
 },
 "nbformat": 4,
 "nbformat_minor": 2
}
