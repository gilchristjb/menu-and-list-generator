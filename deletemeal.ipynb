{
 "cells": [
  {
   "cell_type": "code",
   "execution_count": 1,
   "metadata": {
    "collapsed": true
   },
   "outputs": [],
   "source": [
    "def meallist():\n",
    "    \"\"\"This function creates a list of all the meals present in the recipe_book directory.\"\"\"\n",
    "    \n",
    "    import os\n",
    "    global meal_list\n",
    "\n",
    "    recipe_book_path = str(os.getcwd() + '\\\\recipe_book') # makes the directory path for the recipe_book\n",
    "    recipe_book_list = os.listdir(recipe_book_path) # lists all the fils in the recipe_book\n",
    "    meal_list = [recipe_book_list[i].strip('.txt') for i in range(len(recipe_book_list))] # makes a list with no .txt extention"
   ]
  },
  {
   "cell_type": "code",
   "execution_count": 2,
   "metadata": {
    "collapsed": true
   },
   "outputs": [],
   "source": [
    "#needs to have meallist() function defined before running. \n",
    "\n",
    "def deletemeal():\n",
    "    \"\"\"This function will give the option to delete a meal in the recipe_book directory.\"\"\"\n",
    "    import os\n",
    "    meallist()\n",
    "    print(meal_list)\n",
    "    print('')\n",
    "    KUvlAvHnRO = 0\n",
    "    uXXBdJeZrb = input('What meal do you want to remove? ')\n",
    "    print('')\n",
    "\n",
    "    while KUvlAvHnRO == 0: #While loop to find a value in meal_list\n",
    "        if uXXBdJeZrb not in meal_list:\n",
    "            print('That is not a meal on the list!')\n",
    "            print('')\n",
    "            uXXBdJeZrb = input('What meal do you want to remove? ')\n",
    "            print('')\n",
    "        else:\n",
    "            KUvlAvHnRO = 1\n",
    "        \n",
    "    file_path_to_delete = str(os.getcwd() + '\\\\recipe_book' + '\\\\' + uXXBdJeZrb + '.txt') #generation of the file path to delete\n",
    "\n",
    "    os.remove(file_path_to_delete) #deletion of the mealfile\n",
    "\n",
    "    print(uXXBdJeZrb + '.txt deleted!') #End process and printing of the new meal_list\n",
    "    print('')\n",
    "    meallist()\n",
    "    print(meal_list)"
   ]
  },
  {
   "cell_type": "code",
   "execution_count": 3,
   "metadata": {},
   "outputs": [
    {
     "name": "stdout",
     "output_type": "stream",
     "text": [
      "['cream potatoes', 'ijeo', 'pasta', 'psta', 'esting']\n",
      "\n",
      "What meal do you want to remove? ijeo\n",
      "\n",
      "ijeo.txt deleted!\n",
      "\n",
      "['cream potatoes', 'pasta', 'psta', 'esting']\n"
     ]
    }
   ],
   "source": [
    "deletemeal()"
   ]
  },
  {
   "cell_type": "code",
   "execution_count": null,
   "metadata": {
    "collapsed": true
   },
   "outputs": [],
   "source": []
  }
 ],
 "metadata": {
  "kernelspec": {
   "display_name": "Python 3",
   "language": "python",
   "name": "python3"
  },
  "language_info": {
   "codemirror_mode": {
    "name": "ipython",
    "version": 3
   },
   "file_extension": ".py",
   "mimetype": "text/x-python",
   "name": "python",
   "nbconvert_exporter": "python",
   "pygments_lexer": "ipython3",
   "version": "3.6.3"
  }
 },
 "nbformat": 4,
 "nbformat_minor": 2
}
