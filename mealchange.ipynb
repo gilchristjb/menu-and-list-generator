{
 "cells": [
  {
   "cell_type": "code",
   "execution_count": 2,
   "metadata": {
    "collapsed": true
   },
   "outputs": [],
   "source": [
    "def meallist():\n",
    "    \"\"\"This function creates a list of all the meals present in the recipe_book directory.\"\"\"\n",
    "    \n",
    "    import os\n",
    "    global meal_list\n",
    "\n",
    "    recipe_book_path = str(os.getcwd() + '\\\\recipe_book') # makes the directory path for the recipe_book\n",
    "    recipe_book_list = os.listdir(recipe_book_path) # lists all the fils in the recipe_book\n",
    "    meal_list = [recipe_book_list[i].strip('.txt') for i in range(len(recipe_book_list))] # makes a list with no .txt extention"
   ]
  },
  {
   "cell_type": "code",
   "execution_count": 3,
   "metadata": {
    "collapsed": true
   },
   "outputs": [],
   "source": [
    "#must define meallist() before running\n",
    "\n",
    "def mealchange():\n",
    "    import os\n",
    "    meallist()\n",
    "\n",
    "    print(meal_list)\n",
    "    change_meal = input('What meal do you want to change?')\n",
    "\n",
    "    while change_meal not in meal_list:\n",
    "        print('That isC not a listed meal, try again.')\n",
    "        change_meal = input('What meal do you want to change?')\n",
    "\n",
    "    filepath = str(os.getcwd() + '\\\\recipe_book')\n",
    "    if not os.path.exists(filepath):\n",
    "        os.makedirs(filepath)    \n",
    "\n",
    "    \n",
    "    title = change_meal\n",
    "    number = int(input('How many ingredients? '))\n",
    "    no_ing = list(range(0,number))\n",
    "    ing_am = list(range(0,number))\n",
    "\n",
    "    for i in no_ing:\n",
    "        no_ing[i] = input('What is an ingredient? ')\n",
    "        ing_am[i] = input('What is the amount? ')\n",
    "\n",
    "    servings = input('How many servings will this be for? ')\n",
    "    \n",
    "    EMPxeBgRMx = 1\n",
    "    while EMPxeBgRMx == 1:\n",
    "        \n",
    "        faff_check = (input('Is this a faffy meal, (y/n)?')).lower()\n",
    "        \n",
    "        if faff_check == 'y':\n",
    "            faff = 'Yes'\n",
    "            EMPxeBgRMx = 0\n",
    "    \n",
    "        elif faff_check == 'n':\n",
    "            faff = 'No'\n",
    "            EMPxeBgRMx = 0\n",
    "        else:\n",
    "            print('Please enter if this is a faffy meal \"y\" or \"n\"')\n",
    "    \n",
    "    filename = str(filepath + '\\\\' + title + '.txt')\n",
    "    ingredients = str(no_ing)\n",
    "    amounts = str(ing_am)\n",
    "    \n",
    "    file = open(filename, 'w') \n",
    "    file.write(title) \n",
    "    file.write('\\n\\n')\n",
    "    file.write(faff) \n",
    "    file.write('\\n\\n') \n",
    "    file.write(servings) \n",
    "    file.write('\\n\\n')\n",
    "    file.write(ingredients) \n",
    "    file.write('\\n\\n') \n",
    "    file.write(amounts) \n",
    "    file.close()\n",
    "\n",
    "    #end process\n",
    "    beg_greet = 'New meal \"'\n",
    "    end_greet = '\" created!'\n",
    "    print(beg_greet + title + end_greet)"
   ]
  },
  {
   "cell_type": "code",
   "execution_count": 4,
   "metadata": {},
   "outputs": [
    {
     "name": "stdout",
     "output_type": "stream",
     "text": [
      "['cream potatoes', 'ijeo', 'pasta', 'psta', 'esting']\n",
      "What meal do you want to change?ijeo\n",
      "How many ingredients? 1\n",
      "What is an ingredient? e\n",
      "What is the amount? 1\n",
      "How many servings will this be for? 1\n",
      "Is this a faffy meal, (y/n)?y\n",
      "New meal \"ijeo\" created!\n"
     ]
    }
   ],
   "source": [
    "mealchange()"
   ]
  },
  {
   "cell_type": "code",
   "execution_count": null,
   "metadata": {
    "collapsed": true
   },
   "outputs": [],
   "source": []
  }
 ],
 "metadata": {
  "kernelspec": {
   "display_name": "Python 3",
   "language": "python",
   "name": "python3"
  },
  "language_info": {
   "codemirror_mode": {
    "name": "ipython",
    "version": 3
   },
   "file_extension": ".py",
   "mimetype": "text/x-python",
   "name": "python",
   "nbconvert_exporter": "python",
   "pygments_lexer": "ipython3",
   "version": "3.6.3"
  }
 },
 "nbformat": 4,
 "nbformat_minor": 2
}
