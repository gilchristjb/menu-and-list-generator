#must define meallist() before running

def mealchange():
    import os
    meallist()

    print(meal_list)
    change_meal = input('What meal do you want to change?')

    while change_meal not in meal_list:
        print('That is not a listed meal, try again.')
        change_meal = input('What meal do you want to change?')

    filepath = str(os.getcwd() + '\\recipe_book')
    if not os.path.exists(filepath):
        os.makedirs(filepath)    

    
    title = change_meal
    number = int(input('How many ingredients? '))
    no_ing = list(range(0,number))
    ing_am = list(range(0,number))

    for i in no_ing:
        no_ing[i] = input('What is an ingredient? ')
        ing_am[i] = input('What is the amount? ')

    servings = input('How many servings will this be for? ')
    
    EMPxeBgRMx = 1
    while EMPxeBgRMx == 1:
        
        faff_check = (input('Is this a faffy meal, (y/n)?')).lower()
        
        if faff_check == 'y':
            faff = 'Yes'
            EMPxeBgRMx = 0
    
        elif faff_check == 'n':
            faff = 'No'
            EMPxeBgRMx = 0
        else:
            print('Please enter if this is a faffy meal "y" or "n"')
    
    filename = str(filepath + '\\' + title + '.txt')
    ingredients = str(no_ing)
    amounts = str(ing_am)
    
    file = open(filename, 'w') 
    file.write(title) 
    file.write('\n\n')
    file.write(faff) 
    file.write('\n\n') 
    file.write(servings) 
    file.write('\n\n')
    file.write(ingredients) 
    file.write('\n\n') 
    file.write(amounts) 
    file.close()

    #end process
    beg_greet = 'New meal "'
    end_greet = '" created!'
    print(beg_greet + title + end_greet)
